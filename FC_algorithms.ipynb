{
 "cells": [
  {
   "cell_type": "markdown",
   "metadata": {},
   "source": [
    "## Sorting\n",
    "1. Bubble Sort\n",
    "    - 시간복잡도 : O($n^2$)"
   ]
  },
  {
   "cell_type": "code",
   "execution_count": 18,
   "metadata": {},
   "outputs": [],
   "source": [
    "def bubbleSort(data):\n",
    "    for index in range(len(data) - 1):\n",
    "        sorted = True\n",
    "        for i in range(len(data) - index - 1):\n",
    "            if data[i] > data[i+1]:\n",
    "                data[i], data[i+1] = data[i+1], data[i]\n",
    "                sorted = False\n",
    "        if sorted == True:  # swap이 일어나지 않았다면 정렬이 끝났음을 의미한다.\n",
    "            return data\n",
    "    return data"
   ]
  },
  {
   "cell_type": "code",
   "execution_count": 27,
   "metadata": {},
   "outputs": [
    {
     "output_type": "stream",
     "name": "stdout",
     "text": "[58, 60, 59, 48, 62, 66, 43, 1, 4, 99, 10, 82, 41, 29, 95, 3, 83, 39, 27, 26, 12, 36, 92, 63, 79, 16, 19, 31, 61, 49, 69, 38, 46, 97, 70, 32, 5, 98, 90, 52, 13, 35, 64, 57, 50, 71, 81, 8, 73, 68]\n[1, 3, 4, 5, 8, 10, 12, 13, 16, 19, 26, 27, 29, 31, 32, 35, 36, 38, 39, 41, 43, 46, 48, 49, 50, 52, 57, 58, 59, 60, 61, 62, 63, 64, 66, 68, 69, 70, 71, 73, 79, 81, 82, 83, 90, 92, 95, 97, 98, 99]\n"
    }
   ],
   "source": [
    "# testdata\n",
    "import random\n",
    "testdata = random.sample(range(100), 50)\n",
    "print(testdata)\n",
    "print(bubbleSort(testdata))"
   ]
  },
  {
   "cell_type": "markdown",
   "metadata": {},
   "source": [
    "2. Insertion sort\n",
    "    - 시간복잡도 : O($n^2$)"
   ]
  },
  {
   "cell_type": "code",
   "execution_count": 33,
   "metadata": {},
   "outputs": [],
   "source": [
    "def insertionSort(data):\n",
    "    for index in range(1, len(data)):\n",
    "        for i in range(index, 0, -1):\n",
    "            if data[i-1] > data[i]:\n",
    "                data[i-1], data[i] = data[i], data[i-1]\n",
    "            else:\n",
    "                break\n",
    "    return data"
   ]
  },
  {
   "cell_type": "code",
   "execution_count": 34,
   "metadata": {},
   "outputs": [
    {
     "output_type": "stream",
     "name": "stdout",
     "text": "[18, 78, 43, 14, 91, 77, 67, 90, 53, 11, 9, 86, 69, 94, 6, 37, 59, 29, 95, 13, 40, 0, 92, 16, 35, 7, 42, 36, 55, 80, 96, 52, 81, 57, 47, 44, 31, 83, 70, 1, 84, 58, 75, 74, 17, 89, 93, 65, 68, 51]\n[0, 1, 6, 7, 9, 11, 13, 14, 16, 17, 18, 29, 31, 35, 36, 37, 40, 42, 43, 44, 47, 51, 52, 53, 55, 57, 58, 59, 65, 67, 68, 69, 70, 74, 75, 77, 78, 80, 81, 83, 84, 86, 89, 90, 91, 92, 93, 94, 95, 96]\n"
    }
   ],
   "source": [
    "# testdata\n",
    "import random\n",
    "testdata = random.sample(range(100), 50)\n",
    "print(testdata)\n",
    "print(insertionSort(testdata))"
   ]
  },
  {
   "cell_type": "markdown",
   "metadata": {},
   "source": [
    "3. Selection Sort\n",
    "    - 시간복잡도 : O($n^2$)"
   ]
  },
  {
   "cell_type": "code",
   "execution_count": 37,
   "metadata": {},
   "outputs": [],
   "source": [
    "def selectionSort(data):\n",
    "    for index in range(len(data) - 1):\n",
    "        min = index\n",
    "        for i in range(index + 1, len(data)):\n",
    "            if data[i] < data[min]:\n",
    "                min = i\n",
    "        data[index], data[min] = data[min], data[index]\n",
    "    return data"
   ]
  },
  {
   "cell_type": "code",
   "execution_count": 38,
   "metadata": {},
   "outputs": [
    {
     "output_type": "stream",
     "name": "stdout",
     "text": "[98, 74, 34, 84, 55, 67, 63, 6, 76, 5, 83, 71, 93, 2, 54, 78, 27, 46, 31, 15, 64, 49, 41, 56, 68, 20, 26, 9, 72, 1, 16, 86, 65, 89, 37, 10, 24, 45, 87, 94, 58, 52, 38, 17, 40, 21, 32, 66, 8, 62]\n[1, 2, 5, 6, 8, 9, 10, 15, 16, 17, 20, 21, 24, 26, 27, 31, 32, 34, 37, 38, 40, 41, 45, 46, 49, 52, 54, 55, 56, 58, 62, 63, 64, 65, 66, 67, 68, 71, 72, 74, 76, 78, 83, 84, 86, 87, 89, 93, 94, 98]\n"
    }
   ],
   "source": [
    "# testdata\n",
    "import random\n",
    "testdata = random.sample(range(100), 50)\n",
    "print(testdata)\n",
    "print(selectionSort(testdata))"
   ]
  },
  {
   "cell_type": "markdown",
   "metadata": {},
   "source": [
    "4. Merge Sort\n",
    "    - 시간복잡도 : O($n \\log(n)$)"
   ]
  },
  {
   "cell_type": "code",
   "execution_count": 43,
   "metadata": {},
   "outputs": [],
   "source": [
    "def merge(data1, data2):\n",
    "    data = list()\n",
    "    index1, index2 = 0, 0\n",
    "    while index1 < len(data1) and index2 < len(data2):\n",
    "        if data1[index1] < data2[index2]:\n",
    "            data.append(data1[index1])\n",
    "            index1 += 1\n",
    "        else:\n",
    "            data.append(data2[index2])\n",
    "            index2 += 1\n",
    "    while index1 < len(data1):\n",
    "        data.append(data1[index1])\n",
    "        index1 += 1\n",
    "    while index2 < len(data2):\n",
    "        data.append(data2[index2])\n",
    "        index2 += 1\n",
    "    return data\n",
    "\n",
    "def mergeSort(data):\n",
    "    if len(data) == 1:\n",
    "        return data\n",
    "    else:\n",
    "        mid = len(data) // 2\n",
    "        return merge(mergeSort(data[:mid]), mergeSort(data[mid:]))\n",
    "    return data"
   ]
  },
  {
   "cell_type": "code",
   "execution_count": 44,
   "metadata": {},
   "outputs": [
    {
     "output_type": "stream",
     "name": "stdout",
     "text": "[18, 96, 72, 70, 21, 55, 23, 43, 69, 94, 89, 24, 82, 80, 57, 42, 29, 98, 38, 52, 3, 27, 6, 30, 4, 0, 14, 81, 60, 84, 34, 37, 88, 10, 46, 25, 36, 26, 75, 85, 56, 77, 68, 90, 83, 19, 61, 51, 40, 92]\n[0, 3, 4, 6, 10, 14, 18, 19, 21, 23, 24, 25, 26, 27, 29, 30, 34, 36, 37, 38, 40, 42, 43, 46, 51, 52, 55, 56, 57, 60, 61, 68, 69, 70, 72, 75, 77, 80, 81, 82, 83, 84, 85, 88, 89, 90, 92, 94, 96, 98]\n"
    }
   ],
   "source": [
    "# testdata\n",
    "import random\n",
    "testdata = random.sample(range(100), 50)\n",
    "print(testdata)\n",
    "print(mergeSort(testdata))"
   ]
  },
  {
   "cell_type": "markdown",
   "metadata": {},
   "source": [
    "5. Quick Sort\n",
    "    - 시간복잡도 : O($n \\log(n)$)"
   ]
  },
  {
   "cell_type": "code",
   "execution_count": 63,
   "metadata": {},
   "outputs": [],
   "source": [
    "def quickSort(data):\n",
    "    if len(data) <= 1:\n",
    "        return data\n",
    "    pivot = data[0]\n",
    "    leftpivot, rightpivot = list(), list()\n",
    "    for item in data[1:]:\n",
    "        if item < pivot:\n",
    "            leftpivot.append(item)\n",
    "        else:\n",
    "            rightpivot.append(item)\n",
    "    return quickSort(leftpivot) + [pivot] + quickSort(rightpivot)"
   ]
  },
  {
   "cell_type": "code",
   "execution_count": 8,
   "metadata": {},
   "outputs": [
    {
     "output_type": "stream",
     "name": "stdout",
     "text": "[13, 32, 24, 76, 99, 33, 30, 89, 68, 39, 98, 37, 67, 42, 12, 16, 81, 17, 70, 63, 21, 57, 73, 3, 22, 96, 71, 52, 36, 25, 74, 75, 58, 27, 90, 87, 4, 6, 94, 60, 10, 93, 84, 5, 92, 48, 79, 86, 28, 35]\n[3, 4, 5, 6, 10, 12, 13, 16, 17, 21, 22, 24, 25, 27, 28, 30, 32, 33, 35, 36, 37, 39, 42, 48, 52, 57, 58, 60, 63, 67, 68, 70, 71, 73, 74, 75, 76, 79, 81, 84, 86, 87, 89, 90, 92, 93, 94, 96, 98, 99]\n"
    }
   ],
   "source": [
    "# testdata\n",
    "import random\n",
    "testdata = random.sample(range(100), 50)\n",
    "print(testdata)\n",
    "print(quickSort(testdata))"
   ]
  },
  {
   "cell_type": "code",
   "execution_count": 1,
   "metadata": {},
   "outputs": [],
   "source": [
    "## with list comprehension\n",
    "def quickSort(data):\n",
    "    if len(data) <= 1:\n",
    "        return data\n",
    "    pivot = data[0]\n",
    "    leftpivot = [item for item in data[1:] if item < pivot]\n",
    "    rightpivot = [item for item in data[1:] if pivot <= item]\n",
    "    return quickSort(leftpivot) + [pivot] + quickSort(rightpivot)"
   ]
  },
  {
   "cell_type": "code",
   "execution_count": null,
   "metadata": {},
   "outputs": [],
   "source": [
    "def qsort2(data): # not recursive\n",
    "    end_check = True\n",
    "    afterdata = [data]\n",
    "    while end_check:\n",
    "        beforedata = afterdata[:]\n",
    "        afterdata = []\n",
    "        end_check = False\n",
    "        for pivotdata in beforedata:\n",
    "            if len(pivotdata) > 1:\n",
    "                leftpivot = list()\n",
    "                rightpivot = list()\n",
    "                pivot = pivotdata[0]\n",
    "                for item in pivotdata[1:]:\n",
    "                    if item < pivot:\n",
    "                        leftpivot.append(item)\n",
    "                    else:\n",
    "                        rightpivot.append(item)\n",
    "                afterdata.append(leftpivot)\n",
    "                afterdata.append([pivot])\n",
    "                afterdata.append(rightpivot)\n",
    "                end_check = True\n",
    "            elif len(pivotdata) == 1:\n",
    "                afterdata.append(pivotdata)\n",
    "    result = list()\n",
    "    for item in afterdata:\n",
    "        result.append(item[0])\n",
    "    return result"
   ]
  },
  {
   "cell_type": "markdown",
   "metadata": {},
   "source": [
    "## Search\n",
    "1. Sequential Search\n",
    "    - 시간복잡도 : O(n)"
   ]
  },
  {
   "cell_type": "code",
   "execution_count": 68,
   "metadata": {},
   "outputs": [],
   "source": [
    "def sequentialSearch(data, search_target):\n",
    "    for index, item in enumerate(data):\n",
    "        if item == search_target:\n",
    "            return index\n",
    "    return -1"
   ]
  },
  {
   "cell_type": "code",
   "execution_count": 9,
   "metadata": {},
   "outputs": [
    {
     "output_type": "stream",
     "name": "stdout",
     "text": "[70, 86, 67, 13, 18, 62, 27, 61, 60, 96] 67\n"
    },
    {
     "output_type": "error",
     "ename": "NameError",
     "evalue": "name 'sequentialSearch' is not defined",
     "traceback": [
      "\u001b[1;31m---------------------------------------------------------------------------\u001b[0m",
      "\u001b[1;31mNameError\u001b[0m                                 Traceback (most recent call last)",
      "\u001b[1;32m<ipython-input-9-30b883de8939>\u001b[0m in \u001b[0;36m<module>\u001b[1;34m\u001b[0m\n\u001b[0;32m      4\u001b[0m \u001b[0msearch_target\u001b[0m \u001b[1;33m=\u001b[0m \u001b[0mtestdata\u001b[0m\u001b[1;33m[\u001b[0m\u001b[0mrandom\u001b[0m\u001b[1;33m.\u001b[0m\u001b[0mrandint\u001b[0m\u001b[1;33m(\u001b[0m\u001b[1;36m0\u001b[0m\u001b[1;33m,\u001b[0m \u001b[1;36m10\u001b[0m\u001b[1;33m)\u001b[0m\u001b[1;33m]\u001b[0m\u001b[1;33m\u001b[0m\u001b[1;33m\u001b[0m\u001b[0m\n\u001b[0;32m      5\u001b[0m \u001b[0mprint\u001b[0m\u001b[1;33m(\u001b[0m\u001b[0mtestdata\u001b[0m\u001b[1;33m,\u001b[0m \u001b[0msearch_target\u001b[0m\u001b[1;33m)\u001b[0m\u001b[1;33m\u001b[0m\u001b[1;33m\u001b[0m\u001b[0m\n\u001b[1;32m----> 6\u001b[1;33m \u001b[0mprint\u001b[0m\u001b[1;33m(\u001b[0m\u001b[0msequentialSearch\u001b[0m\u001b[1;33m(\u001b[0m\u001b[0mtestdata\u001b[0m\u001b[1;33m,\u001b[0m \u001b[0msearch_target\u001b[0m\u001b[1;33m)\u001b[0m\u001b[1;33m)\u001b[0m\u001b[1;33m\u001b[0m\u001b[1;33m\u001b[0m\u001b[0m\n\u001b[0m",
      "\u001b[1;31mNameError\u001b[0m: name 'sequentialSearch' is not defined"
     ]
    }
   ],
   "source": [
    "# testdata\n",
    "import random\n",
    "testdata = random.sample(range(100), 10)\n",
    "search_target = testdata[random.randint(0, 10)]\n",
    "print(testdata, search_target)\n",
    "print(sequentialSearch(testdata, search_target))"
   ]
  },
  {
   "cell_type": "markdown",
   "metadata": {},
   "source": [
    "2. Binary Search\n",
    "    - 시간복잡도 : O($\\log n$)"
   ]
  },
  {
   "cell_type": "code",
   "execution_count": 14,
   "metadata": {},
   "outputs": [],
   "source": [
    "def binarySearch(data, search_target, start_index = 0):\n",
    "    mid_index = len(data) // 2\n",
    "    if len(data) == 0:\n",
    "        return -1\n",
    "    elif data[mid_index] == search_target:\n",
    "        return start_index + mid_index\n",
    "    elif mid_index == 0:\n",
    "        return -1\n",
    "    elif data[mid_index] < search_target:\n",
    "        return binarySearch(data[mid_index + 1:], search_target, start_index = start_index + mid_index + 1)\n",
    "    else:\n",
    "        return binarySearch(data[:mid_index], search_target, start_index = start_index)"
   ]
  },
  {
   "cell_type": "code",
   "execution_count": 15,
   "metadata": {},
   "outputs": [
    {
     "output_type": "stream",
     "name": "stdout",
     "text": "[15, 24, 31, 32, 38, 39, 45, 46, 75, 97] 31\n2\n"
    }
   ],
   "source": [
    "# testdata\n",
    "import random\n",
    "testdata = random.sample(range(100), 10)\n",
    "testdata.sort() # 정렬되어 있는 상태에서 search\n",
    "search_target = testdata[random.randint(0, 10)]\n",
    "print(testdata, search_target)\n",
    "print(binarySearch(testdata, search_target))"
   ]
  },
  {
   "cell_type": "markdown",
   "metadata": {},
   "source": [
    "3. DFS(Depth-First Search)\n",
    "    - 시간복잡도 : O($O + V$)"
   ]
  },
  {
   "cell_type": "code",
   "execution_count": 33,
   "metadata": {},
   "outputs": [],
   "source": [
    "testgraph = dict()\n",
    "\n",
    "testgraph['A'] = ['B', 'C']\n",
    "testgraph['B'] = ['A', 'D']\n",
    "testgraph['C'] = ['A', 'G', 'H', 'I']\n",
    "testgraph['D'] = ['B', 'E', 'F']\n",
    "testgraph['E'] = ['D']\n",
    "testgraph['F'] = ['D']\n",
    "testgraph['G'] = ['C']\n",
    "testgraph['H'] = ['C']\n",
    "testgraph['I'] = ['C', 'J']\n",
    "testgraph['J'] = ['I']"
   ]
  },
  {
   "cell_type": "code",
   "execution_count": 41,
   "metadata": {},
   "outputs": [],
   "source": [
    "def DFS_1(graph, start, search_target):\n",
    "    visited = list()    # queue\n",
    "    willvisit = list()  # stack\n",
    "    willvisit.append(start)\n",
    "    \n",
    "    while willvisit:\n",
    "        cur = willvisit.pop(-1)\n",
    "        visited.append(cur)\n",
    "        for node in graph[cur]:\n",
    "            if node == search_target:\n",
    "                return True\n",
    "            if node not in visited:\n",
    "                willvisit.append(node)\n",
    "    return False"
   ]
  },
  {
   "cell_type": "code",
   "execution_count": null,
   "metadata": {},
   "outputs": [],
   "source": [
    "def DFS_2(graph, start, search_target):\n",
    "    visited = list()    # queue\n",
    "    willvisit = list()  # stack\n",
    "    willvisit.append(start)\n",
    "    \n",
    "    while willvisit:\n",
    "        cur = willvisit.pop(-1)\n",
    "        if cur not in visited:\n",
    "            \n",
    "\n",
    "        for node in graph[cur]:\n",
    "            if node == search_target:\n",
    "                return True\n",
    "            if node not in visited:\n",
    "                willvisit.append(node)\n",
    "    return False"
   ]
  },
  {
   "cell_type": "code",
   "execution_count": 45,
   "metadata": {},
   "outputs": [
    {
     "output_type": "execute_result",
     "data": {
      "text/plain": "False"
     },
     "metadata": {},
     "execution_count": 45
    }
   ],
   "source": [
    "DFS_1(testgraph, 'A', 'K')"
   ]
  },
  {
   "cell_type": "markdown",
   "metadata": {},
   "source": [
    "# Tree\n",
    "- ## Binary Search Tree"
   ]
  },
  {
   "cell_type": "code",
   "execution_count": 13,
   "metadata": {},
   "outputs": [],
   "source": [
    "class Node:\n",
    "    def __init__(self, value):\n",
    "        self.value = value\n",
    "        self.left = None\n",
    "        self.right = None\n",
    "\n",
    "class BinarySearchTree:\n",
    "    def __init__(self, head):\n",
    "        self.head = head\n",
    "    \n",
    "    def insert(self, value):\n",
    "        self.current_node = self.head\n",
    "        while True:\n",
    "            if value < self.current_node.value:\n",
    "                if self.current_node.left != None:\n",
    "                    self.current_node = self.current_node.left\n",
    "                else:\n",
    "                    self.current_node.left = Node(value)\n",
    "                    break\n",
    "            else:\n",
    "                if self.current_node.right != None:\n",
    "                    self.current_node = self.current_node.right\n",
    "                else:\n",
    "                    self.current_node.right = Node(value)\n",
    "                    break\n",
    "        \n",
    "    def search(self, value):\n",
    "        self.current_node = self.head\n",
    "        while self.current_node:\n",
    "            if self.current_node.value == value:\n",
    "                return True\n",
    "            elif value < self.current_node.value:\n",
    "                self.current_node = self.current_node.left\n",
    "            else:\n",
    "                self.current_node = self.current_node.right\n",
    "        return False\n",
    "\n",
    "    def delete(self, value):\n",
    "        self.current_node = self.head\n",
    "        self.parent_node = self.head\n",
    "        value_is_here = False\n",
    "        while self.current_node:\n",
    "            if self.current_node.value == value:\n",
    "                value_is_here = True\n",
    "                break\n",
    "            elif value < self.current_node.value:\n",
    "                self.parent_node = self.current_node\n",
    "                self.current_node = self.current_node.left\n",
    "            else:\n",
    "                self.parent_node = self.current_node\n",
    "                self.current_node = self.current_node.right\n",
    "        if value_is_here == False:\n",
    "            return False\n",
    "        \n",
    "        # case1\n",
    "        if self.current_node.left == None and self.current_node.right == None:\n",
    "            if value < self.parent_node.value:\n",
    "                self.parent_node.left = None\n",
    "            else:\n",
    "                self.parent_node.right = None\n",
    "            del self.current_node\n",
    "\n",
    "        # case2\n",
    "        elif self.current_node.left != None and self.current_node.right == None:\n",
    "            if value < self.parent_node.value:\n",
    "                self.parent_node.left = self.current_node.left\n",
    "            else:\n",
    "                self.parent_node.right = self.current_node.left\n",
    "            del current_node\n",
    "        elif self.current_node.left == None and self.current_node.right != None:\n",
    "            if value < self.parent_node.value:\n",
    "                self.parent_node.left = self.current_node.right\n",
    "            else:\n",
    "                self.parent_node.right = self.current_node.right\n",
    "            del self.current_node\n",
    "\n",
    "        # case3\n",
    "        elif self.current_node.left != None and self.current_node.right != None:\n",
    "            self.right_leftleaf = self.current_node.right\n",
    "            self.right_leftleaf_parent = self.current_node.right\n",
    "            while self.right_leftleaf.left != None:\n",
    "                self.right_leftleaf_parent = self.right_leftleaf\n",
    "                self.right_leftleaf = self.right_leftleaf.left\n",
    "            if self.right_leftleaf.right != None:\n",
    "                self.right_leftleaf_parent.left = self.right_leftleaf.right\n",
    "            else:\n",
    "                self.right_leftleaf_parent.left = None\n",
    "            self.right_leftleaf.left = self.current_node.left\n",
    "            self.right_leftleaf.right = self.current_node.right\n",
    "            \n",
    "            if value < self.parent_node.value:\n",
    "                self.parent_node.left = self.right_leftleaf\n",
    "            else:\n",
    "                self.parent_node.right = self.right_leftleaf\n",
    "            del self.current_node\n",
    "        \n",
    "        return True"
   ]
  },
  {
   "cell_type": "code",
   "execution_count": 15,
   "metadata": {},
   "outputs": [],
   "source": [
    "# 0 ~ 999 숫자 중에서 임의로 100개를 추출해서, 이진 탐색 트리에 입력, 검색, 삭제\n",
    "import random\n",
    "\n",
    "# 0 ~ 999 중, 100 개의 숫자 랜덤 선택\n",
    "bst_nums = set()\n",
    "while len(bst_nums) != 100:\n",
    "    bst_nums.add(random.randint(0, 999))\n",
    "# print (bst_nums)\n",
    "\n",
    "# 선택된 100개의 숫자를 이진 탐색 트리에 입력, 임의로 루트노드는 500을 넣기로 함\n",
    "head = Node(500)\n",
    "binary_tree = BinarySearchTree(head)\n",
    "for num in bst_nums:\n",
    "    binary_tree.insert(num)\n",
    "    \n",
    "# 입력한 100개의 숫자 검색 (검색 기능 확인)\n",
    "for num in bst_nums:\n",
    "    if binary_tree.search(num) == False:\n",
    "        print ('search failed', num)\n",
    "\n",
    "# 입력한 100개의 숫자 중 10개의 숫자를 랜덤 선택\n",
    "delete_nums = set()\n",
    "bst_nums = list(bst_nums)\n",
    "while len(delete_nums) != 10:\n",
    "    delete_nums.add(bst_nums[random.randint(0, 99)])\n",
    "\n",
    "# 선택한 10개의 숫자를 삭제 (삭제 기능 확인)\n",
    "for del_num in delete_nums:\n",
    "    if binary_tree.delete(del_num) == False:\n",
    "        print('delete failed', del_num)"
   ]
  },
  {
   "cell_type": "markdown",
   "metadata": {},
   "source": [
    "# Heap\n",
    "\n",
    "- 힙: 데이터에서 최대값과 최소값을 빠르게 찾기 위해 고안된 완전 이진 트리(Complete Binary Tree)\n",
    "    - 완전 이진 트리: 노드를 삽입할 때 최하단 왼쪽 노드부터 차례대로 삽입하는 트리\n",
    "- 힙에 데이터를 넣고, 최대값과 최소값을 찾으면, $ O(log n) $ 이 걸림\n",
    "- 힙은 최대값을 구하기 위한 구조 (최대 힙, Max Heap) 와, 최소값을 구하기 위한 구조 (최소 힙, Min Heap) 로 분류할 수 있음\n",
    "- 힙은 다음과 같이 두 가지 조건을 가지고 있는 자료구조임\n",
    "    1. 각 노드의 값은 해당 노드의 자식 노드가 가진 값보다 크거나 같다. (최대 힙의 경우)\n",
    "        - 최소 힙의 경우는 각 노드의 값은 해당 노드의 자식 노드가 가진 값보다 크거나 작음\n",
    "    2. 완전 이진 트리 형태를 가짐\n",
    "\n",
    "### 힙과 이진 탐색 트리의 공통점과 차이점\n",
    "- 공통점: 힙과 이진 탐색 트리는 모두 이진 트리임\n",
    "- 차이점: \n",
    "  - 힙은 각 노드의 값이 자식 노드보다 크거나 같음(Max Heap의 경우)\n",
    "  - 이진 탐색 트리는 왼쪽 자식 노드의 값이 가장 작고, 그 다음 부모 노드, 그 다음 오른쪽 자식 노드 값이 가장 큼\n",
    "  - 힙은 이진 탐색 트리의 조건인 자식 노드에서 작은 값은 왼쪽, 큰 값은 오른쪽이라는 조건은 없음\n",
    "    - 힙의 왼쪽 및 오른쪽 자식 노드의 값은 오른쪽이 클 수도 있고, 왼쪽이 클 수도 있음\n",
    "- 이진 탐색 트리는 탐색을 위한 구조, 힙은 최대/최소값 검색을 위한 구조 중 하나로 이해하면 됨 \n",
    "\n",
    "### 힙과 배열\n",
    "- 일반적으로 힙 구현시 배열 자료구조를 활용함\n",
    "- 배열은 인덱스가 0번부터 시작하지만, 힙 구현의 편의를 위해, root 노드 인덱스 번호를 1로 지정하면, 구현이 좀더 수월함\n",
    "  - 부모 노드 인덱스 번호 (parent node's index) = 자식 노드 인덱스 번호 (child node's index) // 2\n",
    "  - 왼쪽 자식 노드 인덱스 번호 (left child node's index) = 부모 노드 인덱스 번호 (parent node's index) * 2\n",
    "  - 오른쪽 자식 노드 인덱스 번호 (right child node's index) = 부모 노드 인덱스 번호 (parent node's index) * 2 + 1\n",
    "<img src=\"https://www.fun-coding.org/00_Images/heap_array.png\" width=400>"
   ]
  },
  {
   "cell_type": "code",
   "execution_count": 22,
   "metadata": {},
   "outputs": [],
   "source": [
    "class Heap:\n",
    "    def __init__(self, data):\n",
    "        self.heap_array = list()\n",
    "        self.heap_array.append(None)\n",
    "        self.heap_array.append(data)\n",
    "\n",
    "    def need_to_move_up(self, current_idx):\n",
    "        if current_idx <= 1:\n",
    "            return False\n",
    "\n",
    "        parent_idx = current_idx // 2\n",
    "        if self.heap_array[current_idx] > self.heap_array[parent_idx]:\n",
    "            return True\n",
    "        else:\n",
    "            return False\n",
    "\n",
    "    def insert(self, data):\n",
    "        if len(self.heap_array) == None:\n",
    "            self.heap_array.append(None)\n",
    "            self.heap_array.append(data)\n",
    "            return True\n",
    "        else:\n",
    "            self.heap_array.append(data)\n",
    "\n",
    "            current_idx = len(self.heap_array) - 1\n",
    "            while self.need_to_move_up(current_idx):\n",
    "                parent_idx = current_idx // 2\n",
    "                self.heap_array[current_idx], self.heap_array[parent_idx] = self.heap_array[parent_idx], self.heap_array[current_idx]\n",
    "                current_idx = parent_idx\n",
    "            return True\n",
    "\n",
    "    def need_to_move_down(self, current_idx):\n",
    "        left_idx = current_idx * 2\n",
    "        right_idx = current_idx * 2 + 1\n",
    "\n",
    "        if left_idx >= len(self.heap_array):    # left does not exist\n",
    "            return False\n",
    "        elif right_idx >= len(self.heap_array): # right does not exist\n",
    "            if self.heap_array[left_idx] > self.heap_array[current_idx]:\n",
    "                return True\n",
    "            else:\n",
    "                return False\n",
    "        else:\n",
    "            if self.heap_array[left_idx] > self.heap_array[right_idx]:\n",
    "                if self.heap_array[left_idx] > self.heap_array[current_idx]:\n",
    "                    return True\n",
    "                else:\n",
    "                    return False\n",
    "            else:\n",
    "                if self.heap_array[right_idx] > self.heap_array[current_idx]:\n",
    "                    return True\n",
    "                else:\n",
    "                    return False\n",
    "\n",
    "    def pop(self):\n",
    "        if len(self.heap_array) <= 1:\n",
    "            return None\n",
    "        else:\n",
    "            return_data = self.heap_array[1]\n",
    "            self.heap_array[1] = self.heap_array[-1]\n",
    "            del self.heap_array[-1]\n",
    "            current_idx = 1\n",
    "\n",
    "            while self.need_to_move_down(current_idx):\n",
    "                left_idx = current_idx * 2\n",
    "                right_idx = current_idx * 2 + 1\n",
    "\n",
    "                if right_idx >= len(self.heap_array):    # right does not exist\n",
    "                    if self.heap_array[left_idx] > self.heap_array[current_idx]:\n",
    "                        self.heap_array[left_idx], self.heap_array[current_idx] = self.heap_array[current_idx], self.heap_array[left_idx]\n",
    "                        current_idx = left_idx\n",
    "                else:   # left & right both exist\n",
    "                    if self.heap_array[left_idx] > self.heap_array[right_idx]:  # left > right\n",
    "                        if self.heap_array[left_idx] > self.heap_array[current_idx]:\n",
    "                            self.heap_array[left_idx], self.heap_array[current_idx] = self.heap_array[current_idx], self.heap_array[left_idx]\n",
    "                            current_idx = left_idx\n",
    "                    else:   # right > left\n",
    "                        if self.heap_array[right_idx] > self.heap_array[current_idx]:\n",
    "                            self.heap_array[right_idx], self.heap_array[current_idx] = self.heap_array[current_idx], self.heap_array[right_idx]\n",
    "                            current_idx = right_idx\n",
    "                \n",
    "            return return_data\n"
   ]
  },
  {
   "cell_type": "code",
   "execution_count": 23,
   "metadata": {},
   "outputs": [
    {
     "output_type": "execute_result",
     "data": {
      "text/plain": "[None, 20, 10, 15, 5, 4, 8]"
     },
     "metadata": {},
     "execution_count": 23
    }
   ],
   "source": [
    "heap = Heap(15)\n",
    "heap.insert(10)\n",
    "heap.insert(8)\n",
    "heap.insert(5)\n",
    "heap.insert(4)\n",
    "heap.insert(20)\n",
    "heap.heap_array"
   ]
  },
  {
   "cell_type": "code",
   "execution_count": 24,
   "metadata": {
    "tags": []
   },
   "outputs": [
    {
     "output_type": "execute_result",
     "data": {
      "text/plain": "20"
     },
     "metadata": {},
     "execution_count": 24
    }
   ],
   "source": [
    "heap.pop()"
   ]
  },
  {
   "cell_type": "code",
   "execution_count": 25,
   "metadata": {},
   "outputs": [
    {
     "output_type": "execute_result",
     "data": {
      "text/plain": "[None, 15, 10, 8, 5, 4]"
     },
     "metadata": {},
     "execution_count": 25
    }
   ],
   "source": [
    "heap.heap_array\n"
   ]
  },
  {
   "cell_type": "code",
   "execution_count": 66,
   "metadata": {},
   "outputs": [],
   "source": [
    "def heappush(heap, item):\n",
    "    heap.append(item)\n",
    "    _siftdown(heap, 0, len(heap)-1)\n",
    "\n",
    "def heappush(heap, item):\n",
    "    heap.append(item)\n",
    "    _siftdown(heap, 0, len(heap)-1)\n",
    "\n",
    "def heappop(heap):\n",
    "    last_item = heap.pop()   # raises appropriate IndexError if heap is empty\n",
    "    if heap:\n",
    "        return_item = heap[0]\n",
    "        heap[0] = last_item\n",
    "        _siftup(heap, 0)\n",
    "        return return_item\n",
    "    return last_item\n",
    "\n",
    "def _siftdown(heap, start_pos, pos):\n",
    "    new_item = heap[pos]\n",
    "    while start_pos < pos:\n",
    "        parent_pos = (pos - 1) >> 1\n",
    "        parent = heap[parent_pos]\n",
    "        if new_item < parent:\n",
    "            heap[pos] = parent\n",
    "            pos = parent_pos\n",
    "            continue\n",
    "        break\n",
    "    heap[pos] = new_item\n",
    "\n",
    "def _siftup(heap, pos):\n",
    "    end_pos = len(heap)\n",
    "    start_pos = pos\n",
    "    new_item = heap[pos]\n",
    "    left_child_pos = 2*pos + 1\n",
    "    while left_child_pos < end_pos:\n",
    "        right_child_pos = left_child_pos + 1\n",
    "        if right_child_pos < end_pos:\n",
    "            if heap[left_child_pos] > heap[right_child_pos]:\n",
    "                child_pos = right_child_pos\n",
    "            else:\n",
    "                child_pos = left_child_pos\n",
    "        else:\n",
    "            child_pos = left_child_pos\n",
    "        child = heap[child_pos]\n",
    "        if new_item > child:\n",
    "            heap[pos] = child\n",
    "            pos = child_pos\n",
    "            left_child_pos = 2*pos + 1\n",
    "            continue\n",
    "        break\n",
    "    heap[pos] = new_item"
   ]
  },
  {
   "cell_type": "code",
   "execution_count": 67,
   "metadata": {
    "tags": []
   },
   "outputs": [
    {
     "output_type": "stream",
     "name": "stdout",
     "text": "[2, 3, 5, 6, 4]\n"
    }
   ],
   "source": [
    "heap = list()\n",
    "heappush(heap, 5)\n",
    "heappush(heap, 6)\n",
    "heappush(heap, 3)\n",
    "heappush(heap, 4)\n",
    "heappush(heap, 2)\n",
    "print(heap)"
   ]
  },
  {
   "cell_type": "code",
   "execution_count": 68,
   "metadata": {},
   "outputs": [
    {
     "output_type": "execute_result",
     "data": {
      "text/plain": "2"
     },
     "metadata": {},
     "execution_count": 68
    }
   ],
   "source": [
    "heappop(heap)"
   ]
  },
  {
   "cell_type": "code",
   "execution_count": 69,
   "metadata": {
    "tags": []
   },
   "outputs": [
    {
     "output_type": "stream",
     "name": "stdout",
     "text": "[3, 4, 5, 6]\n"
    }
   ],
   "source": [
    "print(heap)"
   ]
  }
 ],
 "metadata": {
  "language_info": {
   "codemirror_mode": {
    "name": "ipython",
    "version": 3
   },
   "file_extension": ".py",
   "mimetype": "text/x-python",
   "name": "python",
   "nbconvert_exporter": "python",
   "pygments_lexer": "ipython3",
   "version": "3.7.7-final"
  },
  "orig_nbformat": 2,
  "kernelspec": {
   "name": "python37764bit25b0aa150a3b4627b39db21405e6bb75",
   "display_name": "Python 3.7.7 64-bit"
  }
 },
 "nbformat": 4,
 "nbformat_minor": 2
}