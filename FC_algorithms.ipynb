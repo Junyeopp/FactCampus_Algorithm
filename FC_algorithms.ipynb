{
 "cells": [
  {
   "cell_type": "markdown",
   "metadata": {},
   "source": [
    "## Sorting\n",
    "1. Bubble Sort\n",
    "    - 시간복잡도 : O($n^2$)"
   ]
  },
  {
   "cell_type": "code",
   "execution_count": 18,
   "metadata": {},
   "outputs": [],
   "source": [
    "def bubbleSort(data):\n",
    "    for index in range(len(data) - 1):\n",
    "        sorted = True\n",
    "        for i in range(len(data) - index - 1):\n",
    "            if data[i] > data[i+1]:\n",
    "                data[i], data[i+1] = data[i+1], data[i]\n",
    "                sorted = False\n",
    "        if sorted == True:  # swap이 일어나지 않았다면 정렬이 끝났음을 의미한다.\n",
    "            return data\n",
    "    return data"
   ]
  },
  {
   "cell_type": "code",
   "execution_count": 27,
   "metadata": {},
   "outputs": [
    {
     "output_type": "stream",
     "name": "stdout",
     "text": "[58, 60, 59, 48, 62, 66, 43, 1, 4, 99, 10, 82, 41, 29, 95, 3, 83, 39, 27, 26, 12, 36, 92, 63, 79, 16, 19, 31, 61, 49, 69, 38, 46, 97, 70, 32, 5, 98, 90, 52, 13, 35, 64, 57, 50, 71, 81, 8, 73, 68]\n[1, 3, 4, 5, 8, 10, 12, 13, 16, 19, 26, 27, 29, 31, 32, 35, 36, 38, 39, 41, 43, 46, 48, 49, 50, 52, 57, 58, 59, 60, 61, 62, 63, 64, 66, 68, 69, 70, 71, 73, 79, 81, 82, 83, 90, 92, 95, 97, 98, 99]\n"
    }
   ],
   "source": [
    "# testdata\n",
    "import random\n",
    "testdata = random.sample(range(100), 50)\n",
    "print(testdata)\n",
    "print(bubbleSort(testdata))"
   ]
  },
  {
   "cell_type": "markdown",
   "metadata": {},
   "source": [
    "2. Insertion sort\n",
    "    - 시간복잡도 : O($n^2$)"
   ]
  },
  {
   "cell_type": "code",
   "execution_count": 33,
   "metadata": {},
   "outputs": [],
   "source": [
    "def insertionSort(data):\n",
    "    for index in range(1, len(data)):\n",
    "        for i in range(index, 0, -1):\n",
    "            if data[i-1] > data[i]:\n",
    "                data[i-1], data[i] = data[i], data[i-1]\n",
    "            else:\n",
    "                break\n",
    "    return data"
   ]
  },
  {
   "cell_type": "code",
   "execution_count": 34,
   "metadata": {},
   "outputs": [
    {
     "output_type": "stream",
     "name": "stdout",
     "text": "[18, 78, 43, 14, 91, 77, 67, 90, 53, 11, 9, 86, 69, 94, 6, 37, 59, 29, 95, 13, 40, 0, 92, 16, 35, 7, 42, 36, 55, 80, 96, 52, 81, 57, 47, 44, 31, 83, 70, 1, 84, 58, 75, 74, 17, 89, 93, 65, 68, 51]\n[0, 1, 6, 7, 9, 11, 13, 14, 16, 17, 18, 29, 31, 35, 36, 37, 40, 42, 43, 44, 47, 51, 52, 53, 55, 57, 58, 59, 65, 67, 68, 69, 70, 74, 75, 77, 78, 80, 81, 83, 84, 86, 89, 90, 91, 92, 93, 94, 95, 96]\n"
    }
   ],
   "source": [
    "# testdata\n",
    "import random\n",
    "testdata = random.sample(range(100), 50)\n",
    "print(testdata)\n",
    "print(insertionSort(testdata))"
   ]
  },
  {
   "cell_type": "markdown",
   "metadata": {},
   "source": [
    "3. Selection Sort\n",
    "    - 시간복잡도 : O($n^2$)"
   ]
  },
  {
   "cell_type": "code",
   "execution_count": 37,
   "metadata": {},
   "outputs": [],
   "source": [
    "def selectionSort(data):\n",
    "    for index in range(len(data) - 1):\n",
    "        min = index\n",
    "        for i in range(index + 1, len(data)):\n",
    "            if data[i] < data[min]:\n",
    "                min = i\n",
    "        data[index], data[min] = data[min], data[index]\n",
    "    return data"
   ]
  },
  {
   "cell_type": "code",
   "execution_count": 38,
   "metadata": {},
   "outputs": [
    {
     "output_type": "stream",
     "name": "stdout",
     "text": "[98, 74, 34, 84, 55, 67, 63, 6, 76, 5, 83, 71, 93, 2, 54, 78, 27, 46, 31, 15, 64, 49, 41, 56, 68, 20, 26, 9, 72, 1, 16, 86, 65, 89, 37, 10, 24, 45, 87, 94, 58, 52, 38, 17, 40, 21, 32, 66, 8, 62]\n[1, 2, 5, 6, 8, 9, 10, 15, 16, 17, 20, 21, 24, 26, 27, 31, 32, 34, 37, 38, 40, 41, 45, 46, 49, 52, 54, 55, 56, 58, 62, 63, 64, 65, 66, 67, 68, 71, 72, 74, 76, 78, 83, 84, 86, 87, 89, 93, 94, 98]\n"
    }
   ],
   "source": [
    "# testdata\n",
    "import random\n",
    "testdata = random.sample(range(100), 50)\n",
    "print(testdata)\n",
    "print(selectionSort(testdata))"
   ]
  },
  {
   "cell_type": "markdown",
   "metadata": {},
   "source": [
    "4. Merge Sort\n",
    "    - 시간복잡도 : O($n \\log(n)$)"
   ]
  },
  {
   "cell_type": "code",
   "execution_count": 43,
   "metadata": {},
   "outputs": [],
   "source": [
    "def merge(data1, data2):\n",
    "    data = list()\n",
    "    index1, index2 = 0, 0\n",
    "    while index1 < len(data1) and index2 < len(data2):\n",
    "        if data1[index1] < data2[index2]:\n",
    "            data.append(data1[index1])\n",
    "            index1 += 1\n",
    "        else:\n",
    "            data.append(data2[index2])\n",
    "            index2 += 1\n",
    "    while index1 < len(data1):\n",
    "        data.append(data1[index1])\n",
    "        index1 += 1\n",
    "    while index2 < len(data2):\n",
    "        data.append(data2[index2])\n",
    "        index2 += 1\n",
    "    return data\n",
    "\n",
    "def mergeSort(data):\n",
    "    if len(data) == 1:\n",
    "        return data\n",
    "    else:\n",
    "        mid = len(data) // 2\n",
    "        return merge(mergeSort(data[:mid]), mergeSort(data[mid:]))\n",
    "    return data"
   ]
  },
  {
   "cell_type": "code",
   "execution_count": 44,
   "metadata": {},
   "outputs": [
    {
     "output_type": "stream",
     "name": "stdout",
     "text": "[18, 96, 72, 70, 21, 55, 23, 43, 69, 94, 89, 24, 82, 80, 57, 42, 29, 98, 38, 52, 3, 27, 6, 30, 4, 0, 14, 81, 60, 84, 34, 37, 88, 10, 46, 25, 36, 26, 75, 85, 56, 77, 68, 90, 83, 19, 61, 51, 40, 92]\n[0, 3, 4, 6, 10, 14, 18, 19, 21, 23, 24, 25, 26, 27, 29, 30, 34, 36, 37, 38, 40, 42, 43, 46, 51, 52, 55, 56, 57, 60, 61, 68, 69, 70, 72, 75, 77, 80, 81, 82, 83, 84, 85, 88, 89, 90, 92, 94, 96, 98]\n"
    }
   ],
   "source": [
    "# testdata\n",
    "import random\n",
    "testdata = random.sample(range(100), 50)\n",
    "print(testdata)\n",
    "print(mergeSort(testdata))"
   ]
  },
  {
   "cell_type": "markdown",
   "metadata": {},
   "source": [
    "5. Quick Sort\n",
    "    - 시간복잡도 : O($n \\log(n)$)"
   ]
  },
  {
   "cell_type": "code",
   "execution_count": 63,
   "metadata": {},
   "outputs": [],
   "source": [
    "def quickSort(data):\n",
    "    if len(data) <= 1:\n",
    "        return data\n",
    "    pivot = data[0]\n",
    "    leftpivot, rightpivot = list(), list()\n",
    "    for item in data[1:]:\n",
    "        if item < pivot:\n",
    "            leftpivot.append(item)\n",
    "        else:\n",
    "            rightpivot.append(item)\n",
    "    return quickSort(leftpivot) + [pivot] + quickSort(rightpivot)"
   ]
  },
  {
   "cell_type": "code",
   "execution_count": 8,
   "metadata": {},
   "outputs": [
    {
     "output_type": "stream",
     "name": "stdout",
     "text": "[13, 32, 24, 76, 99, 33, 30, 89, 68, 39, 98, 37, 67, 42, 12, 16, 81, 17, 70, 63, 21, 57, 73, 3, 22, 96, 71, 52, 36, 25, 74, 75, 58, 27, 90, 87, 4, 6, 94, 60, 10, 93, 84, 5, 92, 48, 79, 86, 28, 35]\n[3, 4, 5, 6, 10, 12, 13, 16, 17, 21, 22, 24, 25, 27, 28, 30, 32, 33, 35, 36, 37, 39, 42, 48, 52, 57, 58, 60, 63, 67, 68, 70, 71, 73, 74, 75, 76, 79, 81, 84, 86, 87, 89, 90, 92, 93, 94, 96, 98, 99]\n"
    }
   ],
   "source": [
    "# testdata\n",
    "import random\n",
    "testdata = random.sample(range(100), 50)\n",
    "print(testdata)\n",
    "print(quickSort(testdata))"
   ]
  },
  {
   "cell_type": "code",
   "execution_count": 1,
   "metadata": {},
   "outputs": [],
   "source": [
    "## with list comprehension\n",
    "def quickSort(data):\n",
    "    if len(data) <= 1:\n",
    "        return data\n",
    "    pivot = data[0]\n",
    "    leftpivot = [item for item in data[1:] if item < pivot]\n",
    "    rightpivot = [item for item in data[1:] if pivot <= item]\n",
    "    return quickSort(leftpivot) + [pivot] + quickSort(rightpivot)"
   ]
  },
  {
   "cell_type": "code",
   "execution_count": null,
   "metadata": {},
   "outputs": [],
   "source": [
    "def qsort2(data): # not recursive\n",
    "    end_check = True\n",
    "    afterdata = [data]\n",
    "    while end_check:\n",
    "        beforedata = afterdata[:]\n",
    "        afterdata = []\n",
    "        end_check = False\n",
    "        for pivotdata in beforedata:\n",
    "            if len(pivotdata) > 1:\n",
    "                leftpivot = list()\n",
    "                rightpivot = list()\n",
    "                pivot = pivotdata[0]\n",
    "                for item in pivotdata[1:]:\n",
    "                    if item < pivot:\n",
    "                        leftpivot.append(item)\n",
    "                    else:\n",
    "                        rightpivot.append(item)\n",
    "                afterdata.append(leftpivot)\n",
    "                afterdata.append([pivot])\n",
    "                afterdata.append(rightpivot)\n",
    "                end_check = True\n",
    "            elif len(pivotdata) == 1:\n",
    "                afterdata.append(pivotdata)\n",
    "    result = list()\n",
    "    for item in afterdata:\n",
    "        result.append(item[0])\n",
    "    return result"
   ]
  },
  {
   "cell_type": "markdown",
   "metadata": {},
   "source": [
    "## Search\n",
    "1. Sequential Search\n",
    "    - 시간복잡도 : O(n)"
   ]
  },
  {
   "cell_type": "code",
   "execution_count": 68,
   "metadata": {},
   "outputs": [],
   "source": [
    "def sequentialSearch(data, search_target):\n",
    "    for index, item in enumerate(data):\n",
    "        if item == search_target:\n",
    "            return index\n",
    "    return -1"
   ]
  },
  {
   "cell_type": "code",
   "execution_count": 9,
   "metadata": {},
   "outputs": [
    {
     "output_type": "stream",
     "name": "stdout",
     "text": "[70, 86, 67, 13, 18, 62, 27, 61, 60, 96] 67\n"
    },
    {
     "output_type": "error",
     "ename": "NameError",
     "evalue": "name 'sequentialSearch' is not defined",
     "traceback": [
      "\u001b[1;31m---------------------------------------------------------------------------\u001b[0m",
      "\u001b[1;31mNameError\u001b[0m                                 Traceback (most recent call last)",
      "\u001b[1;32m<ipython-input-9-30b883de8939>\u001b[0m in \u001b[0;36m<module>\u001b[1;34m\u001b[0m\n\u001b[0;32m      4\u001b[0m \u001b[0msearch_target\u001b[0m \u001b[1;33m=\u001b[0m \u001b[0mtestdata\u001b[0m\u001b[1;33m[\u001b[0m\u001b[0mrandom\u001b[0m\u001b[1;33m.\u001b[0m\u001b[0mrandint\u001b[0m\u001b[1;33m(\u001b[0m\u001b[1;36m0\u001b[0m\u001b[1;33m,\u001b[0m \u001b[1;36m10\u001b[0m\u001b[1;33m)\u001b[0m\u001b[1;33m]\u001b[0m\u001b[1;33m\u001b[0m\u001b[1;33m\u001b[0m\u001b[0m\n\u001b[0;32m      5\u001b[0m \u001b[0mprint\u001b[0m\u001b[1;33m(\u001b[0m\u001b[0mtestdata\u001b[0m\u001b[1;33m,\u001b[0m \u001b[0msearch_target\u001b[0m\u001b[1;33m)\u001b[0m\u001b[1;33m\u001b[0m\u001b[1;33m\u001b[0m\u001b[0m\n\u001b[1;32m----> 6\u001b[1;33m \u001b[0mprint\u001b[0m\u001b[1;33m(\u001b[0m\u001b[0msequentialSearch\u001b[0m\u001b[1;33m(\u001b[0m\u001b[0mtestdata\u001b[0m\u001b[1;33m,\u001b[0m \u001b[0msearch_target\u001b[0m\u001b[1;33m)\u001b[0m\u001b[1;33m)\u001b[0m\u001b[1;33m\u001b[0m\u001b[1;33m\u001b[0m\u001b[0m\n\u001b[0m",
      "\u001b[1;31mNameError\u001b[0m: name 'sequentialSearch' is not defined"
     ]
    }
   ],
   "source": [
    "# testdata\n",
    "import random\n",
    "testdata = random.sample(range(100), 10)\n",
    "search_target = testdata[random.randint(0, 10)]\n",
    "print(testdata, search_target)\n",
    "print(sequentialSearch(testdata, search_target))"
   ]
  },
  {
   "cell_type": "markdown",
   "metadata": {},
   "source": [
    "2. Binary Search\n",
    "    - 시간복잡도 : O($\\log n$)"
   ]
  },
  {
   "cell_type": "code",
   "execution_count": 14,
   "metadata": {},
   "outputs": [],
   "source": [
    "def binarySearch(data, search_target, start_index = 0):\n",
    "    mid_index = len(data) // 2\n",
    "    if len(data) == 0:\n",
    "        return -1\n",
    "    elif data[mid_index] == search_target:\n",
    "        return start_index + mid_index\n",
    "    elif mid_index == 0:\n",
    "        return -1\n",
    "    elif data[mid_index] < search_target:\n",
    "        return binarySearch(data[mid_index + 1:], search_target, start_index = start_index + mid_index + 1)\n",
    "    else:\n",
    "        return binarySearch(data[:mid_index], search_target, start_index = start_index)"
   ]
  },
  {
   "cell_type": "code",
   "execution_count": 15,
   "metadata": {},
   "outputs": [
    {
     "output_type": "stream",
     "name": "stdout",
     "text": "[15, 24, 31, 32, 38, 39, 45, 46, 75, 97] 31\n2\n"
    }
   ],
   "source": [
    "# testdata\n",
    "import random\n",
    "testdata = random.sample(range(100), 10)\n",
    "testdata.sort() # 정렬되어 있는 상태에서 search\n",
    "search_target = testdata[random.randint(0, 10)]\n",
    "print(testdata, search_target)\n",
    "print(binarySearch(testdata, search_target))"
   ]
  },
  {
   "cell_type": "markdown",
   "metadata": {},
   "source": [
    "3. DFS(Depth-First Search)\n",
    "    - 시간복잡도 : O($O + V$)"
   ]
  },
  {
   "cell_type": "code",
   "execution_count": 33,
   "metadata": {},
   "outputs": [],
   "source": [
    "testgraph = dict()\n",
    "\n",
    "testgraph['A'] = ['B', 'C']\n",
    "testgraph['B'] = ['A', 'D']\n",
    "testgraph['C'] = ['A', 'G', 'H', 'I']\n",
    "testgraph['D'] = ['B', 'E', 'F']\n",
    "testgraph['E'] = ['D']\n",
    "testgraph['F'] = ['D']\n",
    "testgraph['G'] = ['C']\n",
    "testgraph['H'] = ['C']\n",
    "testgraph['I'] = ['C', 'J']\n",
    "testgraph['J'] = ['I']"
   ]
  },
  {
   "cell_type": "code",
   "execution_count": 41,
   "metadata": {},
   "outputs": [],
   "source": [
    "def DFS_1(graph, start, search_target):\n",
    "    visited = list()    # queue\n",
    "    willvisit = list()  # stack\n",
    "    willvisit.append(start)\n",
    "    \n",
    "    while willvisit:\n",
    "        cur = willvisit.pop(-1)\n",
    "        visited.append(cur)\n",
    "        for node in graph[cur]:\n",
    "            if node == search_target:\n",
    "                return True\n",
    "            if node not in visited:\n",
    "                willvisit.append(node)\n",
    "    return False"
   ]
  },
  {
   "cell_type": "code",
   "execution_count": null,
   "metadata": {},
   "outputs": [],
   "source": [
    "def DFS_2(graph, start, search_target):\n",
    "    visited = list()    # queue\n",
    "    willvisit = list()  # stack\n",
    "    willvisit.append(start)\n",
    "    \n",
    "    while willvisit:\n",
    "        cur = willvisit.pop(-1)\n",
    "        if cur not in visited:\n",
    "            \n",
    "\n",
    "        for node in graph[cur]:\n",
    "            if node == search_target:\n",
    "                return True\n",
    "            if node not in visited:\n",
    "                willvisit.append(node)\n",
    "    return False"
   ]
  },
  {
   "cell_type": "code",
   "execution_count": 45,
   "metadata": {},
   "outputs": [
    {
     "output_type": "execute_result",
     "data": {
      "text/plain": "False"
     },
     "metadata": {},
     "execution_count": 45
    }
   ],
   "source": [
    "DFS_1(testgraph, 'A', 'K')"
   ]
  }
 ],
 "metadata": {
  "language_info": {
   "codemirror_mode": {
    "name": "ipython",
    "version": 3
   },
   "file_extension": ".py",
   "mimetype": "text/x-python",
   "name": "python",
   "nbconvert_exporter": "python",
   "pygments_lexer": "ipython3",
   "version": "3.7.7-final"
  },
  "orig_nbformat": 2,
  "kernelspec": {
   "name": "python37764bit25b0aa150a3b4627b39db21405e6bb75",
   "display_name": "Python 3.7.7 64-bit"
  }
 },
 "nbformat": 4,
 "nbformat_minor": 2
}